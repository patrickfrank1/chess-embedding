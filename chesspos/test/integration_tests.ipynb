{
 "nbformat": 4,
 "nbformat_minor": 2,
 "metadata": {
  "language_info": {
   "name": "python",
   "codemirror_mode": {
    "name": "ipython",
    "version": 3
   },
   "version": "3.7.6-final"
  },
  "orig_nbformat": 2,
  "file_extension": ".py",
  "mimetype": "text/x-python",
  "name": "python",
  "npconvert_exporter": "python",
  "pygments_lexer": "ipython3",
  "version": 3,
  "kernelspec": {
   "name": "python37664bitposembcondafe902e4f67854e6d98f2a8ceedfcf887",
   "display_name": "Python 3.7.6 64-bit ('pos-emb': conda)"
  }
 },
 "cells": [
  {
   "cell_type": "code",
   "execution_count": 1,
   "metadata": {},
   "outputs": [
    {
     "output_type": "stream",
     "name": "stdout",
     "text": "/home/pafrank/Documents/coding/chess-position-embedding/test\n"
    }
   ],
   "source": [
    "!pwd"
   ]
  },
  {
   "cell_type": "markdown",
   "metadata": {},
   "source": [
    "### Test pgn_extract.py tool"
   ]
  },
  {
   "cell_type": "code",
   "execution_count": 3,
   "metadata": {},
   "outputs": [
    {
     "output_type": "stream",
     "name": "stdout",
     "text": "usage: pgn_extract.py [-h] [--save_position SAVE_POSITION] [--tuples TUPLES]\n                      [--save_tuples SAVE_TUPLES] [--chunksize CHUNKSIZE]\n                      [--filter KEY1=VAL1]\n                      input\n\nGenerate bitboards and training samples\n\npositional arguments:\n  input                 pgn file with input games\n\noptional arguments:\n  -h, --help            show this help message and exit\n  --save_position SAVE_POSITION\n                        h5py file to store the encoded positions\n  --tuples TUPLES       Do you want to generate tuples as well?\n                        True|False(default)\n  --save_tuples SAVE_TUPLES\n                        h5py file to store the encoded tuples\n  --chunksize CHUNKSIZE\n                        Chunk size for paginating games\n  --filter KEY1=VAL1    Filter out games. Options: time_min, elo_min. Usage:\n                        --filter key1=val1 --filter key2=val2\n"
    }
   ],
   "source": [
    "!/home/pafrank/anaconda3/envs/pos-emb/bin/python ../tools/pgn_extract.py --help"
   ]
  },
  {
   "cell_type": "code",
   "execution_count": 2,
   "metadata": {},
   "outputs": [
    {
     "output_type": "stream",
     "name": "stdout",
     "text": "Input file at: ../data/raw/test\nFilter options: {}\nPositions saved at: ../data/bitboards/test-bb1\nTuples generated: False\nTuples saved at: None\nChunksize: 10000\n\n\n\nGame positions saved.\nChunk 0 processed.\n3.68user 0.07system 0:03.78elapsed 99%CPU (0avgtext+0avgdata 67816maxresident)k\n2616inputs+224outputs (259major+15037minor)pagefaults 0swaps\n"
    }
   ],
   "source": [
    "# convert all games in that file\n",
    "# .pgn file ending does not need to be provided, it is automatically added, same for output(.h5 file)\n",
    "# do not generate tuples for training\n",
    "!time /home/pafrank/anaconda3/envs/pos-emb/bin/python ../tools/pgn_extract.py ../data/raw/test --save_position ../data/bitboards/test-bb1 --chunksize 10000"
   ]
  },
  {
   "cell_type": "code",
   "execution_count": 4,
   "metadata": {},
   "outputs": [
    {
     "output_type": "stream",
     "name": "stdout",
     "text": "Input file at: ../data/raw/test\nFilter options: {'elo_min': '1800', 'time_min': '61'}\nPositions saved at: ../data/bitboards/test-bb2\nTuples generated: True\nTuples saved at: ../data/train_small/test2-tuples-strong\nChunksize: 10000\n\n\n\nGame positions saved.\nTuples generated.\nTuples saved.\nChunk 0 processed.\n1.14user 0.05system 0:01.23elapsed 97%CPU (0avgtext+0avgdata 47536maxresident)k\n192inputs+80outputs (20major+11616minor)pagefaults 0swaps\n"
    }
   ],
   "source": [
    "# convert all games in that file\n",
    "# .pgn file ending does not need to be provided, it is automatically added, same for output(.h5 file)\n",
    "# also generate tuples for training\n",
    "# this time filter games based on elo and time control\n",
    "!time /home/pafrank/anaconda3/envs/pos-emb/bin/python ../tools/pgn_extract.py ../data/raw/test --save_position ../data/bitboards/test-bb2 --chunksize 10000 --tuples True --save_tuples ../data/train_small/test2-tuples-strong --filter elo_min=1800 --filter time_min=61"
   ]
  },
  {
   "cell_type": "markdown",
   "metadata": {},
   "source": [
    "### Test index_from_bitboards.py tool"
   ]
  },
  {
   "cell_type": "code",
   "execution_count": 1,
   "metadata": {},
   "outputs": [
    {
     "output_type": "stream",
     "name": "stdout",
     "text": "usage: index_from_bitboards.py [-h] [--table_key TABLE_KEY]\n                               [--save_path SAVE_PATH]\n                               input_directory\n\nGenerate a searchable faiss index from bitboards.\n\npositional arguments:\n  input_directory       directory that contains all bitboards (stored in h5\n                        files), which should be stored in an index\n\noptional arguments:\n  -h, --help            show this help message and exit\n  --table_key TABLE_KEY\n                        substring, that is contained in all relevant h5 table\n                        names (default: position should work out of the box)\n  --save_path SAVE_PATH\n                        full path- and filename to the output index, defaults\n                        to the input directory\n"
    }
   ],
   "source": [
    "!/home/pafrank/anaconda3/envs/pos-emb/bin/python ../tools/index_from_bitboards.py --help"
   ]
  },
  {
   "cell_type": "code",
   "execution_count": 2,
   "metadata": {},
   "outputs": [
    {
     "output_type": "stream",
     "name": "stdout",
     "text": "Input directory: ../data/bitboards/testdir\nTable key for h5 tables: position\nIndex saved at: \n\n\nFiles to be added to index:\n['/home/pafrank/Documents/coding/chess-position-embedding/data/bitboards/testdir/lichess_db_standard_rated_2013-03-bb.h5']\nFile /home/pafrank/Documents/coding/chess-position-embedding/data/bitboards/testdir/lichess_db_standard_rated_2013-03-bb.h5 has keys <KeysViewHDF5 ['game_id_0', 'game_id_1', 'position_0', 'position_1']>\nThe index contains 10.857 million positions.\nIndex successfully saved at /home/pafrank/Documents/coding/chess-position-embedding/data/bitboards/testdir/bitboard_index.\n66.96user 11.14system 1:18.69elapsed 99%CPU (0avgtext+0avgdata 3394124maxresident)k\n88896inputs+2056984outputs (0major+825816minor)pagefaults 0swaps\n"
    }
   ],
   "source": [
    "# using default\n",
    "!time /home/pafrank/anaconda3/envs/pos-emb/bin/python ../tools/index_from_bitboards.py ../data/bitboards/testdir"
   ]
  },
  {
   "cell_type": "code",
   "execution_count": 5,
   "metadata": {},
   "outputs": [
    {
     "output_type": "stream",
     "name": "stdout",
     "text": "Input directory: ../data/bitboards/testdir\nTable key for h5 tables: position_0\nIndex saved at: ../data/test_index2\n\n\nFiles to be added to index:\n['/home/pafrank/Documents/coding/chess-position-embedding/data/bitboards/testdir/lichess_db_standard_rated_2013-03-bb.h5']\nFile /home/pafrank/Documents/coding/chess-position-embedding/data/bitboards/testdir/lichess_db_standard_rated_2013-03-bb.h5 has keys <KeysViewHDF5 ['game_id_0', 'game_id_1', 'position_0', 'position_1']>\nThe index contains 6.843 million positions.\nIndex successfully saved at /home/pafrank/Documents/coding/chess-position-embedding/data/test_index2.\n42.35user 3.83system 0:46.18elapsed 100%CPU (0avgtext+0avgdata 2930068maxresident)k\n16inputs+1296560outputs (0major+414575minor)pagefaults 0swaps\n"
    }
   ],
   "source": [
    "!time /home/pafrank/anaconda3/envs/pos-emb/bin/python ../tools/index_from_bitboards.py ../data/bitboards/testdir --table_key position_0 --save_path ../data/test_index2"
   ]
  },
  {
   "cell_type": "code",
   "execution_count": 1,
   "metadata": {},
   "outputs": [
    {
     "output_type": "stream",
     "name": "stdout",
     "text": "2020-04-20 16:38:39.572134: W tensorflow/stream_executor/platform/default/dso_loader.cc:55] Could not load dynamic library 'libnvinfer.so.6'; dlerror: libnvinfer.so.6: cannot open shared object file: No such file or directory\n2020-04-20 16:38:39.572684: W tensorflow/stream_executor/platform/default/dso_loader.cc:55] Could not load dynamic library 'libnvinfer_plugin.so.6'; dlerror: libnvinfer_plugin.so.6: cannot open shared object file: No such file or directory\n2020-04-20 16:38:39.572701: W tensorflow/compiler/tf2tensorrt/utils/py_utils.cc:30] Cannot dlopen some TensorRT libraries. If you would like to use Nvidia GPU with TensorRT, please make sure the missing libraries mentioned above are installed properly.\nusage: train_model.py [-h] config\n\nTrain a chess position embedding with tensorflow.\n\npositional arguments:\n  config      json config file to read settings from\n\noptional arguments:\n  -h, --help  show this help message and exit\n"
    }
   ],
   "source": [
    "!/home/pafrank/anaconda3/envs/pos-emb/bin/python ../tools/train_model.py -h"
   ]
  },
  {
   "cell_type": "code",
   "execution_count": 2,
   "metadata": {},
   "outputs": [
    {
     "output_type": "stream",
     "name": "stdout",
     "text": "2020-04-20 19:46:59.674446: W tensorflow/stream_executor/platform/default/dso_loader.cc:55] Could not load dynamic library 'libnvinfer.so.6'; dlerror: libnvinfer.so.6: cannot open shared object file: No such file or directory\n2020-04-20 19:46:59.674911: W tensorflow/stream_executor/platform/default/dso_loader.cc:55] Could not load dynamic library 'libnvinfer_plugin.so.6'; dlerror: libnvinfer_plugin.so.6: cannot open shared object file: No such file or directory\n2020-04-20 19:46:59.674935: W tensorflow/compiler/tf2tensorrt/utils/py_utils.cc:30] Cannot dlopen some TensorRT libraries. If you would like to use Nvidia GPU with TensorRT, please make sure the missing libraries mentioned above are installed properly.\nusage: model_inference.py [-h] [--table_prefix TABLE_PREFIX]\n                          [--embedding_table_prefix EMBEDDING_TABLE_PREFIX]\n                          [--batch_size BATCH_SIZE] [--float16 FLOAT16]\n                          model_dir bitboard_dir\n\nInfer bitboard embeddings from trained model and save to existing h5py file.\n\npositional arguments:\n  model_dir             Directory in which embedding model is stored.\n  bitboard_dir          Directory in which h5 files with bitboards -to be\n                        converted and appended to same file- are stored.\n\noptional arguments:\n  -h, --help            show this help message and exit\n  --table_prefix TABLE_PREFIX\n                        Prefix to select h5py tables in which bitboards are\n                        stored.\n  --embedding_table_prefix EMBEDDING_TABLE_PREFIX\n                        Prefix of the tables to which the inferred embeddings\n                        are written.\n  --batch_size BATCH_SIZE\n                        Chunk size for reading, inferring and writing\n                        embeddings.\n  --float16 FLOAT16     Whether flaot embeddings are stored as float32 or\n                        float16 values, to save storage space.\n"
    }
   ],
   "source": [
    "!/home/pafrank/anaconda3/envs/pos-emb/bin/python ../tools/model_inference.py -h"
   ]
  },
  {
   "cell_type": "code",
   "execution_count": 3,
   "metadata": {},
   "outputs": [
    {
     "output_type": "stream",
     "name": "stdout",
     "text": "2020-04-20 20:07:31.967074: W tensorflow/stream_executor/platform/default/dso_loader.cc:55] Could not load dynamic library 'libnvinfer.so.6'; dlerror: libnvinfer.so.6: cannot open shared object file: No such file or directory\n2020-04-20 20:07:31.967548: W tensorflow/stream_executor/platform/default/dso_loader.cc:55] Could not load dynamic library 'libnvinfer_plugin.so.6'; dlerror: libnvinfer_plugin.so.6: cannot open shared object file: No such file or directory\n2020-04-20 20:07:31.967573: W tensorflow/compiler/tf2tensorrt/utils/py_utils.cc:30] Cannot dlopen some TensorRT libraries. If you would like to use Nvidia GPU with TensorRT, please make sure the missing libraries mentioned above are installed properly.\nusage: index_from_embedding.py [-h] [--table_prefix TABLE_PREFIX]\n                               [--save_path SAVE_PATH] [--chunks CHUNKS]\n                               [--train_frac TRAIN_FRAC]\n                               index_factory_string embedding_dir\n\nGenerate a searchable faiss index from float embeddings.\n\npositional arguments:\n  index_factory_string  use a valid string to initialize the faiss index\n                        factory\n  embedding_dir         path to directory that contains all embeddings in h5\n                        files, which should be added to the index\n\noptional arguments:\n  -h, --help            show this help message and exit\n  --table_prefix TABLE_PREFIX\n                        the prefix that selects all h5 tables that store\n                        embeddings (default=\"test_embedding\")\n  --save_path SAVE_PATH\n                        full path- and filename to the output index, defaults\n                        to the input directory\n  --chunks CHUNKS       chunksize in which files are read, decrease if you run\n                        out of RAM\n  --train_frac TRAIN_FRAC\n                        number of train samples as fraction of the total\n                        number of samples (default=1e-3)\n"
    }
   ],
   "source": [
    "!/home/pafrank/anaconda3/envs/pos-emb/bin/python ../tools/index_from_embedding.py -h"
   ]
  },
  {
   "cell_type": "code",
   "execution_count": null,
   "metadata": {},
   "outputs": [],
   "source": []
  }
 ]
}